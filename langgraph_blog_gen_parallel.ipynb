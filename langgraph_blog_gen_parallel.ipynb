{
 "cells": [
  {
   "cell_type": "code",
   "execution_count": 1,
   "metadata": {},
   "outputs": [
    {
     "data": {
      "text/plain": [
       "AIMessage(content='Hello! How can I assist you today?', additional_kwargs={}, response_metadata={'token_usage': {'completion_tokens': 10, 'prompt_tokens': 30, 'total_tokens': 40, 'completion_time': 0.05, 'prompt_time': 0.00377729, 'queue_time': 0.236907376, 'total_time': 0.05377729}, 'model_name': 'qwen-2.5-32b', 'system_fingerprint': 'fp_35f92f8282', 'finish_reason': 'stop', 'logprobs': None}, id='run-3bc8ca83-4c32-47d4-9138-b7991a168e04-0', usage_metadata={'input_tokens': 30, 'output_tokens': 10, 'total_tokens': 40})"
      ]
     },
     "execution_count": 1,
     "metadata": {},
     "output_type": "execute_result"
    }
   ],
   "source": [
    "from typing_extensions import TypedDict\n",
    "from langgraph.graph import StateGraph, START, END\n",
    "from IPython.display import Image, display\n",
    "from typing_extensions import Literal\n",
    "from pydantic import BaseModel, Field\n",
    "from langchain_core.messages import HumanMessage, SystemMessage\n",
    "\n",
    "import os\n",
    "from dotenv import load_dotenv\n",
    "load_dotenv()\n",
    "\n",
    "from langchain_groq import ChatGroq\n",
    "\n",
    "\n",
    "#os.environ[\"OPENAI_API_KEY\"]=os.getenv(\"OPENAI_API_KEY\")\n",
    "os.environ[\"GROQ_API_KEY\"]=os.getenv(\"GROQ_API_KEY\")\n",
    "\n",
    "\n",
    "llm=ChatGroq(model=\"qwen-2.5-32b\")\n",
    "#llm = ChatOpenAI(model=\"gpt-4o\")\n",
    "result=llm.invoke(\"Hello\")\n",
    "result"
   ]
  },
  {
   "cell_type": "code",
   "execution_count": 8,
   "metadata": {},
   "outputs": [
    {
     "data": {
      "image/png": "[encoded data removed]",
      "text/plain": [
       "<IPython.core.display.Image object>"
      ]
     },
     "metadata": {},
     "output_type": "display_data"
    },
    {
     "name": "stdout",
     "output_type": "stream",
     "text": [
      "Here is your blogpost on the input agentic aiTopic: Topic: The Ethical Implications and Future Potential of Agentic AI in Decision-Making Roles\n",
      "\n",
      "In this topic, we delve into the emerging field of agentic AI, which refers to artificial intelligence systems designed to act autonomously and make decisions with a level of independence similar to human agents. This exploration will focus on the ethical considerations that arise when agentic AI is tasked with decision-making roles, particularly in critical sectors such as healthcare, law enforcement, and financial management. Additionally, we will examine the potential benefits and risks associated with the integration of agentic AI into society, including the impact on employment, privacy, and accountability. The discussion will also consider the technical advancements necessary for agentic AI to fulfill these roles effectively and the regulatory frameworks needed to ensure responsible deployment.\n",
      "\n",
      " ### The Rise of Agentic AI: A New Era in Artificial Intelligence\n",
      "\n",
      "In the rapidly evolving landscape of technology, Agentic AI is emerging as a groundbreaking advancement, marking a significant shift in how we perceive and interact with artificial intelligence. This blog post aims to explore what Agentic AI is, its key features, its potential applications, and the ethical implications associated with its development and use.\n",
      "\n",
      "#### What is Agentic AI?\n",
      "\n",
      "Agentic AI refers to a sophisticated form of artificial intelligence that operates with a high degree of autonomy, capable of making decisions and taking actions in a manner that closely resembles human agency. Unlike traditional AI systems which are often rule-based and deterministic, Agentic AI systems can learn, adapt, and evolve their behavior based on the context and the outcomes of their actions. This ability to act with purpose and intention is what sets Agentic AI apart.\n",
      "\n",
      "#### Key Features of Agentic AI\n",
      "\n",
      "- **Autonomy:** Agentic AI operates independently, making decisions and taking actions without direct human intervention.\n",
      "- **Learning and Adaptation:** These systems can learn from their interactions with the environment and adapt their behavior to optimize outcomes.\n",
      "- **Complex Decision-Making:** Agentic AI can handle complex decision-making processes, often involving multiple variables and long-term planning.\n",
      "- **Interaction and Communication:** They are designed to interact with both humans and other AI systems, often through natural language or other intuitive communication methods.\n",
      "\n",
      "#### Potential Applications of Agentic AI\n",
      "\n",
      "The applications of Agentic AI span across various sectors, revolutionizing the way we conduct business, healthcare, and even our daily lives.\n",
      "\n",
      "- **Healthcare:** Agentic AI can be used to personalize treatment plans, manage patient care autonomously, and predict health outcomes based on patient data.\n",
      "- **Finance:** In the financial sector, these AI systems can manage portfolios, detect fraud autonomously, and optimize investments based on market trends.\n",
      "- **Manufacturing and Logistics:** Agentic AI can optimize supply chains, manage inventory, and improve the efficiency of production processes.\n",
      "- **Customer Service:** Advanced chatbots and virtual assistants can provide 24/7 support, solving customer issues autonomously and improving user satisfaction.\n",
      "\n",
      "#### Ethical Implications and Challenges\n",
      "\n",
      "The development and deployment of Agentic AI raise several ethical considerations and challenges that must be addressed to ensure the technology is used responsibly.\n",
      "\n",
      "- **Privacy and Security:** With the ability to gather and process vast amounts of data, Agentic AI systems must be secured to prevent data breaches and ensure user privacy.\n",
      "- **Bias and Fairness:** Ensuring that Agentic AI systems do not perpetuate or amplify biases present in the data they are trained on is critical.\n",
      "- **Accountability and Transparency:** As these systems make decisions autonomously, there is a need for mechanisms that can explain their decisions and actions to maintain accountability.\n",
      "- **Impact on Employment:** The rise of Agentic AI may lead to changes in the job market, necessitating a reevaluation of skills and education systems.\n",
      "\n",
      "#### Conclusion\n",
      "\n",
      "Agentic AI represents a significant leap forward in the capabilities of artificial intelligence, promising to unlock new possibilities and efficiencies across various industries. However, the path forward is not without its challenges. As we continue to develop and integrate these advanced systems into our lives, it is crucial to address the ethical considerations and ensure that the benefits of Agentic AI are realized responsibly and equitably.\n",
      "\n",
      "By understanding and navigating the complexities of Agentic AI, we can harness its power to create a future that is both innovative and ethical.\n"
     ]
    }
   ],
   "source": [
    "from typing_extensions import TypedDict\n",
    "from langgraph.graph import StateGraph, START, END\n",
    "from IPython.display import Image, display\n",
    "\n",
    "class BlogGen(TypedDict):\n",
    "    input: str\n",
    "    topic: str\n",
    "    content : str\n",
    "    blogpost : str\n",
    "\n",
    "#nodes\n",
    "def genTopic(state:BlogGen):\n",
    "        \"\"\"Create a topic for the input provided by the user\"\"\"\n",
    "        msg = llm.invoke(f\"Generate a topic on the input {state['input']}\")\n",
    "        return {\"topic\":msg.content}\n",
    "    \n",
    "def genBlogContent(state:BlogGen):\n",
    "        \"\"\"Create the content for the topic with sections\"\"\"\n",
    "        msg = llm.invoke(f\"Create a blog post on the input {state['input']} that includes proper sections\")\n",
    "        return {\"content\": msg.content}\n",
    "    \n",
    "def genBlogPost(state:BlogGen):\n",
    "        \"\"\"Combine the topic and blog content to create a blog post\"\"\"\n",
    "        combined = f\"Here is your blogpost on the input {state['input']}\"\n",
    "        combined += f\"Topic: {state['topic']}\\n\\n {state['content']}\"\n",
    "        return {\"blogpost\": combined}\n",
    "\n",
    "    #Build workflow\n",
    "builder = StateGraph(BlogGen)\n",
    "\n",
    "builder.add_node(\"call_genTopic\",genTopic)\n",
    "builder.add_node(\"call_genContent\", genBlogContent)\n",
    "builder.add_node(\"call_genBlogPost\", genBlogPost)\n",
    "\n",
    "builder.add_edge(START, \"call_genTopic\")\n",
    "builder.add_edge(START, \"call_genContent\")\n",
    "builder.add_edge(\"call_genTopic\", \"call_genBlogPost\")\n",
    "builder.add_edge(\"call_genContent\", \"call_genBlogPost\")\n",
    "builder.add_edge(\"call_genBlogPost\", END)\n",
    "\n",
    "\n",
    "wrkflow = builder.compile()\n",
    "# Show workflow\n",
    "display(Image(wrkflow.get_graph().draw_mermaid_png()))\n",
    "\n",
    "# Invoke\n",
    "state = wrkflow.invoke({\"input\": \"agentic ai\"})\n",
    "print(state[\"blogpost\"])\n",
    "\n",
    "\n"
   ]
  },
  {
   "cell_type": "code",
   "execution_count": null,
   "metadata": {},
   "outputs": [],
   "source": []
  }
 ],
 "metadata": {
  "kernelspec": {
   "display_name": "base",
   "language": "python",
   "name": "python3"
  },
  "language_info": {
   "codemirror_mode": {
    "name": "ipython",
    "version": 3
   },
   "file_extension": ".py",
   "mimetype": "text/x-python",
   "name": "python",
   "nbconvert_exporter": "python",
   "pygments_lexer": "ipython3",
   "version": "3.12.7"
  }
 },
 "nbformat": 4,
 "nbformat_minor": 2
}
